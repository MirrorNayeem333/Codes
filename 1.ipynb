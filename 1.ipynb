{
 "cells": [
  {
   "cell_type": "code",
   "execution_count": 1,
   "id": "78c7fade",
   "metadata": {},
   "outputs": [
    {
     "name": "stdout",
     "output_type": "stream",
     "text": [
      "🌻 Morning Dharma!\n",
      "🙋‍♀️ Evening Sonny!\n",
      "      1\n",
      "    2 3\n",
      "  4 5 6\n",
      "7 8 9 10\n"
     ]
    }
   ],
   "source": [
    "# Write code below 💖\n",
    "print(\"🌻 Morning Dharma!\")\n",
    "print(\"🙋‍♀️ Evening Sonny!\")\n",
    "\n",
    "print(\"      1\")\n",
    "print(\"    2 3\")\n",
    "print(\"  4 5 6\")\n",
    "print(\"7 8 9 10\")"
   ]
  }
 ],
 "metadata": {
  "kernelspec": {
   "display_name": "Python 3",
   "language": "python",
   "name": "python3"
  },
  "language_info": {
   "codemirror_mode": {
    "name": "ipython",
    "version": 3
   },
   "file_extension": ".py",
   "mimetype": "text/x-python",
   "name": "python",
   "nbconvert_exporter": "python",
   "pygments_lexer": "ipython3",
   "version": "3.12.1"
  }
 },
 "nbformat": 4,
 "nbformat_minor": 5
}
