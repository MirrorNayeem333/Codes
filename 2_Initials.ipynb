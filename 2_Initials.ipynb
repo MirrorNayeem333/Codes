{
 "cells": [
  {
   "cell_type": "code",
   "execution_count": 1,
   "id": "5a567821",
   "metadata": {},
   "outputs": [
    {
     "name": "stdout",
     "output_type": "stream",
     "text": [
      "Hi\n",
      "K    K    ZZZZZZZZ\n",
      "K   K            Z\n",
      "K  K            Z\n",
      "K K            Z\n",
      "K K           Z\n",
      "K  K         Z\n",
      "K   K       Z\n",
      "K    K     ZZZZZZZZZ\n"
     ]
    }
   ],
   "source": [
    "# Write code below 💖\n",
    "\n",
    "print(\"Hi\") #I am a commemnt, too!\n",
    "\n",
    "print(\"K    K    ZZZZZZZZ\")\n",
    "print(\"K   K            Z\")\n",
    "print(\"K  K            Z\")\n",
    "print(\"K K            Z\")\n",
    "print(\"K K           Z\")\n",
    "print(\"K  K         Z\")\n",
    "print(\"K   K       Z\")\n",
    "print(\"K    K     ZZZZZZZZZ\")\n"
   ]
  }
 ],
 "metadata": {
  "kernelspec": {
   "display_name": "Python 3",
   "language": "python",
   "name": "python3"
  },
  "language_info": {
   "codemirror_mode": {
    "name": "ipython",
    "version": 3
   },
   "file_extension": ".py",
   "mimetype": "text/x-python",
   "name": "python",
   "nbconvert_exporter": "python",
   "pygments_lexer": "ipython3",
   "version": "3.12.1"
  }
 },
 "nbformat": 4,
 "nbformat_minor": 5
}
