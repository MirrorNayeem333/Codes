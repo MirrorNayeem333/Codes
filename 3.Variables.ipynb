{
 "cells": [
  {
   "cell_type": "code",
   "execution_count": null,
   "id": "e20c02a9",
   "metadata": {},
   "outputs": [
    {
     "name": "stdout",
     "output_type": "stream",
     "text": [
      "Kazi Nayeem 222 0.05 16 True\n"
     ]
    }
   ],
   "source": [
    "# Write code below 💖 python can detect data type automatically\n",
    "name= 'Kazi Nayeem'\n",
    "user_id= 222\n",
    "progress=0.05\n",
    "xp= 16\n",
    "verified= True\n",
    "print( name, user_id, progress, xp, verified)"
   ]
  }
 ],
 "metadata": {
  "kernelspec": {
   "display_name": "Python 3",
   "language": "python",
   "name": "python3"
  },
  "language_info": {
   "codemirror_mode": {
    "name": "ipython",
    "version": 3
   },
   "file_extension": ".py",
   "mimetype": "text/x-python",
   "name": "python",
   "nbconvert_exporter": "python",
   "pygments_lexer": "ipython3",
   "version": "3.12.1"
  }
 },
 "nbformat": 4,
 "nbformat_minor": 5
}
